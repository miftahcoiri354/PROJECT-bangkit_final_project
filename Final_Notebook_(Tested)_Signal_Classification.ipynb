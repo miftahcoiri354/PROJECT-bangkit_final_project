{
  "nbformat": 4,
  "nbformat_minor": 0,
  "metadata": {
    "accelerator": "GPU",
    "colab": {
      "name": "Final Notebook (Tested) - Signal Classification.ipynb",
      "provenance": [],
      "collapsed_sections": [],
      "include_colab_link": true
    },
    "kernelspec": {
      "display_name": "Python 3",
      "name": "python3"
    }
  },
  "cells": [
    {
      "cell_type": "markdown",
      "metadata": {
        "id": "view-in-github",
        "colab_type": "text"
      },
      "source": [
        "<a href=\"https://colab.research.google.com/github/miftahcoiri354/bangkit-final-project/blob/master/Final_Notebook_(Tested)_Signal_Classification.ipynb\" target=\"_parent\"><img src=\"https://colab.research.google.com/assets/colab-badge.svg\" alt=\"Open In Colab\"/></a>"
      ]
    },
    {
      "cell_type": "code",
      "metadata": {
        "id": "yT6uHdHUE35W",
        "colab_type": "code",
        "colab": {}
      },
      "source": [
        "#Colab Library to upload files to notebook\n",
        "from google.colab import files\n",
        "files.upload() #upload kaggle.json (You can get the files from Kaggle API Token at My Account)"
      ],
      "execution_count": null,
      "outputs": []
    },
    {
      "cell_type": "code",
      "metadata": {
        "id": "yrWiZvdxFIEH",
        "colab_type": "code",
        "colab": {}
      },
      "source": [
        "!pip install -q kaggle\n",
        "!mkdir -p ~/.kaggle\n",
        "!cp kaggle.json ~/.kaggle/\n",
        "!ls ~/.kaggle\n",
        "!chmod 600 /root/.kaggle/kaggle.json"
      ],
      "execution_count": null,
      "outputs": []
    },
    {
      "cell_type": "code",
      "metadata": {
        "id": "KAOrK52IFKnB",
        "colab_type": "code",
        "colab": {}
      },
      "source": [
        "!kaggle kernels list — user miftahcoiri — sort-by dateRun\n",
        "!kaggle datasets download -d datamunge/sign-language-mnist"
      ],
      "execution_count": null,
      "outputs": []
    },
    {
      "cell_type": "code",
      "metadata": {
        "id": "9KkaggXHFLm6",
        "colab_type": "code",
        "colab": {}
      },
      "source": [
        "from zipfile import ZipFile\n",
        "\n",
        "z = ZipFile('sign-language-mnist.zip')\n",
        "zip_files = z.infolist()\n",
        "\n",
        "zip_files"
      ],
      "execution_count": null,
      "outputs": []
    },
    {
      "cell_type": "code",
      "metadata": {
        "id": "0gZVso32HgUJ",
        "colab_type": "code",
        "colab": {}
      },
      "source": [
        "!unzip sign-language-mnist.zip"
      ],
      "execution_count": null,
      "outputs": []
    },
    {
      "cell_type": "code",
      "metadata": {
        "id": "_4fBAcCMHmWG",
        "colab_type": "code",
        "colab": {}
      },
      "source": [
        "import matplotlib.pyplot as plt\n",
        "import seaborn as sns\n",
        "import keras\n",
        "import pandas as pd\n",
        "import numpy as np\n",
        "import csv\n",
        "import tensorflow as tf\n",
        "from keras.models import Sequential\n",
        "from keras.layers import Dense, Conv2D , MaxPool2D , Flatten , Dropout , BatchNormalization\n",
        "from keras.preprocessing.image import ImageDataGenerator\n",
        "from sklearn.model_selection import train_test_split\n",
        "from sklearn.metrics import classification_report,confusion_matrix\n",
        "from sklearn import preprocessing\n",
        "from sklearn.preprocessing import LabelBinarizer\n",
        "from keras.callbacks import ReduceLROnPlateau\n",
        "from tensorflow.keras.preprocessing.image import ImageDataGenerator"
      ],
      "execution_count": null,
      "outputs": []
    },
    {
      "cell_type": "markdown",
      "metadata": {
        "id": "iGMUFT5DEE0A",
        "colab_type": "text"
      },
      "source": [
        "#**Dataset Preparateion**"
      ]
    },
    {
      "cell_type": "code",
      "metadata": {
        "id": "Zu6LoE5HHqBn",
        "colab_type": "code",
        "colab": {}
      },
      "source": [
        "#Import the test and train datasets into pandas dataframe\n",
        "train_df = pd.read_csv('sign_mnist_train.csv')\n",
        "test_df = pd.read_csv('sign_mnist_test.csv')\n",
        "test_df"
      ],
      "execution_count": null,
      "outputs": []
    },
    {
      "cell_type": "code",
      "metadata": {
        "id": "v0Jes-wxzzj4",
        "colab_type": "code",
        "colab": {}
      },
      "source": [
        "old_labels_train = train_df['label']\n",
        "old_labels_test = test_df['label']"
      ],
      "execution_count": null,
      "outputs": []
    },
    {
      "cell_type": "code",
      "metadata": {
        "id": "gAPTjhG-0UXZ",
        "colab_type": "code",
        "colab": {}
      },
      "source": [
        "labels = []\n",
        "z = 0\n",
        "y = 10\n",
        "\n",
        "for i in old_labels_train:\n",
        "  if z == i:\n",
        "    labels.append(z)\n",
        "    z = z+1\n",
        "labels.append(z)\n",
        "\n",
        "for i in old_labels_train:\n",
        "  if y == i:\n",
        "    labels.append(y)\n",
        "    y = y+1\n",
        "#labels.append(y)"
      ],
      "execution_count": null,
      "outputs": []
    },
    {
      "cell_type": "code",
      "metadata": {
        "id": "8ENyUwqk0oF8",
        "colab_type": "code",
        "colab": {}
      },
      "source": [
        "n = labels\n",
        "def spelli(n):\n",
        "    n = str(n)\n",
        "    num = labels\n",
        "    spell = ['A','B','C','D','E','F','G','H','I','J','K','L','M','N','O','P','Q','R','S','T','U','V','W','X','Y','Z']\n",
        "    res = ''\n",
        "    l = len(n)\n",
        "    if int(n) in num:\n",
        "        res = spell[num.index(int(n))]\n",
        "        return (res)\n",
        "    elif len(n)==1:\n",
        "        res = spell[n]\n",
        "        return (res)\n",
        "    elif len(n)==2:\n",
        "        m = n[0]\n",
        "        m += '0'\n",
        "        m = int(m)\n",
        "        res = spell[num.index(m)]+' '\n",
        "        res += spelli(int(n[1]))\n",
        "        return (res)"
      ],
      "execution_count": null,
      "outputs": []
    },
    {
      "cell_type": "code",
      "metadata": {
        "id": "LbR10KDG1Bi0",
        "colab_type": "code",
        "colab": {}
      },
      "source": [
        "fin_labels = []\n",
        "for i in labels:\n",
        "  n = i\n",
        "  result = \"\"\n",
        "  n = str(n)[::-1]\n",
        "  arr = [n[i:i+3][::-1] for i in range(0, len(n), 3)]\n",
        "  jrr = arr[::-1]\n",
        "  for e in jrr:\n",
        "    result+= spelli(int(e))\n",
        "    result+=\"\"\n",
        "  #print (result)\n",
        "  fin_labels.append(result)"
      ],
      "execution_count": null,
      "outputs": []
    },
    {
      "cell_type": "code",
      "metadata": {
        "id": "BgD_vHjN1Cxx",
        "colab_type": "code",
        "colab": {}
      },
      "source": [
        "new_train_labels = []\n",
        "new_test_labels = []\n",
        "for q in train_df['label']:\n",
        "  for z in labels:\n",
        "    if q == z:\n",
        "      new_train_labels.append(fin_labels[z])\n",
        "for q in test_df['label']:\n",
        "  for z in labels:\n",
        "    if q == z:\n",
        "      new_test_labels.append(fin_labels[z])"
      ],
      "execution_count": null,
      "outputs": []
    },
    {
      "cell_type": "code",
      "metadata": {
        "id": "-Ug5B7mQ1OBg",
        "colab_type": "code",
        "colab": {}
      },
      "source": [
        "train_df['new_train_labels'] = new_train_labels\n",
        "test_df['new_test_labels'] = new_test_labels"
      ],
      "execution_count": null,
      "outputs": []
    },
    {
      "cell_type": "code",
      "metadata": {
        "id": "5_VrwNit368J",
        "colab_type": "code",
        "colab": {}
      },
      "source": [
        "x_train = train_df.iloc[:, 1:-1]\n",
        "x_test = test_df.iloc[:, 1:-1]\n",
        "y_train = train_df['new_train_labels']\n",
        "y_test = test_df['new_test_labels']"
      ],
      "execution_count": null,
      "outputs": []
    },
    {
      "cell_type": "code",
      "metadata": {
        "id": "WCn0zK75aCx6",
        "colab_type": "code",
        "colab": {}
      },
      "source": [
        "final_labels = '\\n'.join(fin_labels)\n",
        "\n",
        "with open('labels.txt', 'w') as f:\n",
        "  f.write(final_labels)"
      ],
      "execution_count": null,
      "outputs": []
    },
    {
      "cell_type": "code",
      "metadata": {
        "id": "WMssNSpsFPVz",
        "colab_type": "code",
        "colab": {}
      },
      "source": [
        "train_df\n",
        "train_df.iloc[:, 1:-1]\n",
        "x_train"
      ],
      "execution_count": null,
      "outputs": []
    },
    {
      "cell_type": "markdown",
      "metadata": {
        "id": "Cb-uP7x0EJgv",
        "colab_type": "text"
      },
      "source": [
        "#**Dataset Transformation**"
      ]
    },
    {
      "cell_type": "code",
      "metadata": {
        "id": "6CiNgYcDHjW_",
        "colab_type": "code",
        "colab": {}
      },
      "source": [
        "x_train_resize = x_train/255\n",
        "x_test_resize = x_test/255\n",
        "x_train_resize = x_train_resize.values\n",
        "x_test_resize = x_test_resize.values"
      ],
      "execution_count": null,
      "outputs": []
    },
    {
      "cell_type": "code",
      "metadata": {
        "id": "aBgEw2p7FK3f",
        "colab_type": "code",
        "colab": {}
      },
      "source": [
        "# Reshaping the data from 1-D to 3-D as required through input by CNN's\n",
        "x_train_resize = x_train_resize.reshape(-1,28,28,1)\n",
        "x_test_resize = x_test_resize.reshape(-1,28,28,1)\n",
        "x_train_resize.shape"
      ],
      "execution_count": null,
      "outputs": []
    },
    {
      "cell_type": "code",
      "metadata": {
        "id": "4tsomZOyJLDf",
        "colab_type": "code",
        "colab": {}
      },
      "source": [
        "y_train_preprocessing = preprocessing.LabelBinarizer()\n",
        "y_test_preprocessing = preprocessing.LabelBinarizer()\n",
        "y_train_resize = y_train_preprocessing.fit_transform(y_train)\n",
        "y_test_resize = y_test_preprocessing.fit_transform(y_test)\n",
        "y_train_resize.shape"
      ],
      "execution_count": null,
      "outputs": []
    },
    {
      "cell_type": "code",
      "metadata": {
        "id": "IdQ9hQhuENC6",
        "colab_type": "code",
        "colab": {}
      },
      "source": [
        "f, ax = plt.subplots(2,5) \n",
        "f.set_size_inches(10, 10)\n",
        "k = 0\n",
        "for i in range(2):\n",
        "    for j in range(5):\n",
        "        ax[i,j].imshow(x_train_resize[k].reshape(28, 28) , cmap = \"gray\")\n",
        "        k += 1\n",
        "    plt.tight_layout()   "
      ],
      "execution_count": null,
      "outputs": []
    },
    {
      "cell_type": "code",
      "metadata": {
        "id": "GRCzkGB2Iz1j",
        "colab_type": "code",
        "colab": {}
      },
      "source": [
        "# With data augmentation to prevent overfitting\n",
        "datagen = ImageDataGenerator(\n",
        "        featurewise_center=False,  # set input mean to 0 over the dataset\n",
        "        samplewise_center=False,  # set each sample mean to 0\n",
        "        featurewise_std_normalization=False,  # divide inputs by std of the dataset\n",
        "        samplewise_std_normalization=False,  # divide each input by its std\n",
        "        zca_whitening=False,  # apply ZCA whitening\n",
        "        rotation_range=10,  # randomly rotate images in the range (degrees, 0 to 180)\n",
        "        zoom_range = 0.1, # Randomly zoom image \n",
        "        width_shift_range=0.1,  # randomly shift images horizontally (fraction of total width)\n",
        "        height_shift_range=0.1,  # randomly shift images vertically (fraction of total height)\n",
        "        horizontal_flip=False,  # randomly flip images\n",
        "        vertical_flip=False)  # randomly flip images"
      ],
      "execution_count": null,
      "outputs": []
    },
    {
      "cell_type": "markdown",
      "metadata": {
        "id": "HzCMEE69I7Pu",
        "colab_type": "text"
      },
      "source": [
        "#**Build & Train Model**"
      ]
    },
    {
      "cell_type": "code",
      "metadata": {
        "id": "ayiuQ3KcI57J",
        "colab_type": "code",
        "colab": {}
      },
      "source": [
        "model = tf.keras.Sequential([\n",
        "  tf.keras.layers.Conv2D(75, (3,3), \n",
        "                         strides = 1,\n",
        "                         padding = 'same',\n",
        "                         activation='relu',\n",
        "                         input_shape = (28,28,1)),\n",
        "  tf.keras.layers.BatchNormalization(),\n",
        "  tf.keras.layers.MaxPool2D((2,2),\n",
        "                            strides = 2,\n",
        "                            padding = 'same'),\n",
        "  tf.keras.layers.Conv2D(50, (3,3),\n",
        "                         strides=1,\n",
        "                         padding = 'same',\n",
        "                         activation = 'relu'),\n",
        "  tf.keras.layers.Dropout(0.2),\n",
        "  tf.keras.layers.BatchNormalization(),\n",
        "  tf.keras.layers.MaxPool2D((2,2),\n",
        "                            strides = 2,\n",
        "                            padding = 'same'),\n",
        "  tf.keras.layers.Conv2D(25, (3,3),\n",
        "                         strides = 1,\n",
        "                         padding = 'same',\n",
        "                         activation='relu'),\n",
        "  tf.keras.layers.BatchNormalization(),\n",
        "  tf.keras.layers.MaxPool2D((2,2),\n",
        "                            strides=2,\n",
        "                            padding='same'),\n",
        "  tf.keras.layers.Flatten(),\n",
        "  tf.keras.layers.Dense(units=512,\n",
        "                        activation='relu'),\n",
        "  tf.keras.layers.Dropout(0.3),\n",
        "  tf.keras.layers.Dense(units=24,\n",
        "                        activation = 'softmax')\n",
        "])"
      ],
      "execution_count": null,
      "outputs": []
    },
    {
      "cell_type": "code",
      "metadata": {
        "id": "uQ7_T6SNKxQe",
        "colab_type": "code",
        "colab": {}
      },
      "source": [
        "model.compile(optimizer = 'adam' , \n",
        "              loss = 'categorical_crossentropy',\n",
        "              metrics=['accuracy'])\n",
        "model.summary()"
      ],
      "execution_count": null,
      "outputs": []
    },
    {
      "cell_type": "code",
      "metadata": {
        "id": "PXLX0UjtK8Mt",
        "colab_type": "code",
        "colab": {}
      },
      "source": [
        "learning_rate_reduction = tf.keras.callbacks.ReduceLROnPlateau(\n",
        "                                            monitor='val_accuracy', \n",
        "                                            patience = 2, \n",
        "                                            verbose=1,\n",
        "                                            factor=0.5, \n",
        "                                            min_lr=0.00001)"
      ],
      "execution_count": null,
      "outputs": []
    },
    {
      "cell_type": "code",
      "metadata": {
        "id": "AqB2RUHDLA-N",
        "colab_type": "code",
        "colab": {}
      },
      "source": [
        "history = model.fit(datagen.flow(x_train_resize,y_train_resize, batch_size = 128),\n",
        "                    epochs = 25 , validation_data = (x_test_resize, y_test_resize),\n",
        "                    callbacks = [learning_rate_reduction])"
      ],
      "execution_count": null,
      "outputs": []
    },
    {
      "cell_type": "code",
      "metadata": {
        "id": "mVWq0FkQLXsE",
        "colab_type": "code",
        "colab": {}
      },
      "source": [
        "print(\"Accuracy of the model is - \" , model.evaluate(x_test_resize,y_test_resize)[1]*100 , \"%\")"
      ],
      "execution_count": null,
      "outputs": []
    },
    {
      "cell_type": "markdown",
      "metadata": {
        "id": "1XQ7zzLINA9X",
        "colab_type": "text"
      },
      "source": [
        "#**Plot the Prediction Result**"
      ]
    },
    {
      "cell_type": "code",
      "metadata": {
        "id": "z-AlSvt1Le-4",
        "colab_type": "code",
        "colab": {}
      },
      "source": [
        "epochs = [i for i in range(25)]\n",
        "fig , ax = plt.subplots(1,2)\n",
        "train_acc = history.history['accuracy']\n",
        "train_loss = history.history['loss']\n",
        "val_acc = history.history['val_accuracy']\n",
        "val_loss = history.history['val_loss']\n",
        "fig.set_size_inches(16,9)\n",
        "\n",
        "ax[0].plot(epochs , train_acc , 'r-' , label = 'Training Accuracy')\n",
        "ax[0].plot(epochs , val_acc , 'b-' , label = 'Testing Accuracy')\n",
        "ax[0].set_title('Training & Validation Accuracy')\n",
        "ax[0].legend()\n",
        "ax[0].set_xlabel(\"Epochs\")\n",
        "ax[0].set_ylabel(\"Accuracy\")\n",
        "\n",
        "ax[1].plot(epochs , train_loss , 'r-' , label = 'Training Loss')\n",
        "ax[1].plot(epochs , val_loss , 'b-' , label = 'Testing Loss')\n",
        "ax[1].set_title('Testing Accuracy & Loss')\n",
        "ax[1].legend()\n",
        "ax[1].set_xlabel(\"Epochs\")\n",
        "ax[1].set_ylabel(\"Loss\")\n",
        "plt.show()"
      ],
      "execution_count": null,
      "outputs": []
    },
    {
      "cell_type": "code",
      "metadata": {
        "id": "wF_rwFCbLoQJ",
        "colab_type": "code",
        "colab": {}
      },
      "source": [
        "predictions = model.predict_classes(x_test_resize)\n",
        "for i in range(len(predictions)):\n",
        "    if(predictions[i] >= 9):\n",
        "        predictions[i] += 1\n",
        "\n",
        "print(predictions[:100]) #prediction labels using ML\n",
        "print(np.array(y_test[:100])) #original labels from dataset"
      ],
      "execution_count": null,
      "outputs": []
    },
    {
      "cell_type": "code",
      "metadata": {
        "id": "DAwafceVfz1V",
        "colab_type": "code",
        "colab": {
          "base_uri": "https://localhost:8080/",
          "height": 283
        },
        "outputId": "bcb35221-d8c1-47a1-af53-089d400069d3"
      },
      "source": [
        "plt.imshow(x_test_resize[0].reshape(28,28), cmap=\"gray\", interpolation='none')"
      ],
      "execution_count": 52,
      "outputs": [
        {
          "output_type": "execute_result",
          "data": {
            "text/plain": [
              "<matplotlib.image.AxesImage at 0x7f200db7e860>"
            ]
          },
          "metadata": {
            "tags": []
          },
          "execution_count": 52
        },
        {
          "output_type": "display_data",
          "data": {
            "image/png": "[encoded data removed]",
            "text/plain": [
              "<Figure size 432x288 with 1 Axes>"
            ]
          },
          "metadata": {
            "tags": [],
            "needs_background": "light"
          }
        }
      ]
    },
    {
      "cell_type": "markdown",
      "metadata": {
        "id": "3pqQJq8wNVlL",
        "colab_type": "text"
      },
      "source": [
        "#**Convert the Model into TFLite Model**"
      ]
    },
    {
      "cell_type": "code",
      "metadata": {
        "id": "vDWodbwSNTvb",
        "colab_type": "code",
        "colab": {}
      },
      "source": [
        "saved_model_dir = 'save/fine_tuning'\n",
        "tf.saved_model.save(model, saved_model_dir)\n",
        "\n",
        "converter = tf.lite.TFLiteConverter.from_saved_model(saved_model_dir)\n",
        "tflite_model = converter.convert()\n",
        "\n",
        "with open('model.tflite', 'wb') as f:\n",
        "  f.write(tflite_model)"
      ],
      "execution_count": null,
      "outputs": []
    },
    {
      "cell_type": "code",
      "metadata": {
        "id": "49TPxCAKNeWw",
        "colab_type": "code",
        "colab": {}
      },
      "source": [
        "from google.colab import files\n",
        "\n",
        "files.download('model.tflite')\n",
        "files.download('labels.txt')"
      ],
      "execution_count": null,
      "outputs": []
    },
    {
      "cell_type": "markdown",
      "metadata": {
        "id": "0ipLl0snODNZ",
        "colab_type": "text"
      },
      "source": [
        "#**Interpret & Test the TFLite Model**"
      ]
    },
    {
      "cell_type": "code",
      "metadata": {
        "id": "f4wxOfBYN9Nb",
        "colab_type": "code",
        "colab": {}
      },
      "source": [
        "final_model = \"model.tflite\"\n",
        "interpreter = tf.lite.Interpreter(model_path=final_model)\n",
        "interpreter.allocate_tensors()\n",
        "\n",
        "print(\"== Input details ==\")\n",
        "print(\"name:\", interpreter.get_input_details()[0]['name'])\n",
        "print(\"shape:\", interpreter.get_input_details()[0]['shape'])\n",
        "print(\"type:\", interpreter.get_input_details()[0]['dtype'])\n",
        "\n",
        "print(\"\\n== Output details ==\")\n",
        "print(\"name:\", interpreter.get_output_details()[0]['name'])\n",
        "print(\"shape:\", interpreter.get_output_details()[0]['shape'])\n",
        "print(\"type:\", interpreter.get_output_details()[0]['dtype'])\n",
        "\n",
        "print(\"\\nDUMP INPUT\")\n",
        "print(interpreter.get_input_details()[0])\n",
        "print(\"\\nDUMP OUTPUT\")\n",
        "print(interpreter.get_output_details()[0])"
      ],
      "execution_count": null,
      "outputs": []
    },
    {
      "cell_type": "code",
      "metadata": {
        "id": "9-kDiQKsX8UU",
        "colab_type": "code",
        "colab": {}
      },
      "source": [
        "print(\"Image Input Shape:\",  x_train_resize[10].shape)"
      ],
      "execution_count": null,
      "outputs": []
    },
    {
      "cell_type": "code",
      "metadata": {
        "id": "rNpBlXOvOP_y",
        "colab_type": "code",
        "colab": {}
      },
      "source": [
        "x_squeeze = x_train_resize.squeeze()\n",
        "example_img_for_tflite = x_squeeze[10]\n",
        "plt.grid(False)\n",
        "plt.xticks([])\n",
        "plt.yticks([])\n",
        "\n",
        "print(\"Squeezed Image:\", example_img_for_tflite.shape)\n",
        "plt.imshow(example_img_for_tflite, cmap=plt.cm.binary)"
      ],
      "execution_count": null,
      "outputs": []
    },
    {
      "cell_type": "code",
      "metadata": {
        "id": "PUeRRtStOgKg",
        "colab_type": "code",
        "colab": {}
      },
      "source": [
        "example_img_for_tflite = example_img_for_tflite.reshape(1,28,28,1)\n",
        "input_data = np.array(example_img_for_tflite, dtype=np.float32)\n",
        "print(\"Input data shape:\", input_data.shape)\n",
        "print(\"Input data type:\", input_data.dtype)"
      ],
      "execution_count": null,
      "outputs": []
    },
    {
      "cell_type": "code",
      "metadata": {
        "id": "1wMY-JeNOwWw",
        "colab_type": "code",
        "colab": {}
      },
      "source": [
        "input_details = interpreter.get_input_details()\n",
        "print(interpreter.get_input_details())\n",
        "\n",
        "interpreter.set_tensor(input_details[0]['index'], input_data)\n",
        "interpreter.invoke()"
      ],
      "execution_count": null,
      "outputs": []
    },
    {
      "cell_type": "code",
      "metadata": {
        "id": "eKIxv0iXO4F6",
        "colab_type": "code",
        "colab": {}
      },
      "source": [
        "output_details = interpreter.get_output_details()\n",
        "output_data = interpreter.get_tensor(output_details[0]['index'])\n",
        "print(\"\\n\\nPrediction results:\", output_data)\n",
        "print(\"Predicted value:\", np.argmax(output_data))"
      ],
      "execution_count": null,
      "outputs": []
    },
    {
      "cell_type": "markdown",
      "metadata": {
        "id": "VX50mJmPyaw-",
        "colab_type": "text"
      },
      "source": [
        "\n",
        "\n",
        "---\n",
        "#**Try with Real Images (Optional)**\n"
      ]
    },
    {
      "cell_type": "code",
      "metadata": {
        "id": "iVdytKBoqiKV",
        "colab_type": "code",
        "colab": {}
      },
      "source": [
        "from PIL import Image\n",
        "import PIL.ImageOps    \n",
        "\n",
        "img = Image.open(\"test.png\").convert('L')\n",
        "img.load()\n",
        "img = PIL.ImageOps.invert(img)\n",
        "data = np.asarray( img, dtype=\"int32\" )\n",
        "\n",
        "plt.grid(False)\n",
        "plt.xticks([])\n",
        "plt.yticks([])\n",
        "plt.imshow(data, cmap=plt.cm.binary)\n",
        "\n",
        "data = data / 255.0\n",
        "inputImg = np.expand_dims(data,0).astype(np.float32)\n",
        "inputImg.shape\n",
        "\n",
        "input_details = interpreter.get_input_details()\n",
        "interpreter.set_tensor(input_details[0]['index'], inputImg)\n",
        "\n",
        "interpreter.invoke()\n",
        "\n",
        "output_details = interpreter.get_output_details()\n",
        "output_data = interpreter.get_tensor(output_details[0]['index'])\n",
        "print(\"Prediction results:\", output_data)\n",
        "print(\"Predicted value:\", np.argmax(output_data))"
      ],
      "execution_count": null,
      "outputs": []
    }
  ]
}